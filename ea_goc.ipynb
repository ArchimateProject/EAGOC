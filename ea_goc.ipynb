{
 "cells": [
  {
   "cell_type": "markdown",
   "metadata": {
    "slideshow": {
     "slide_type": "slide"
    }
   },
   "source": [
    "This notebook is part of the thesis R. Dijkstra OU BPMIT and based on the definition of the gap of change \n",
    "visialized in ArchiMate according Bakelaar et al 2017.\n",
    "The code is written in a style to match the definition as much as possible. Code is redundant for more better\n",
    "readability.\n",
    "\n",
    "This version proposes extended_by relations.\n",
    "\n",
    "Changes are defined by assigning a component to either AsIs or ToBe.\n",
    "Assigning relationships to AsIs or Tobe is only needed when relating components are changed, and\n",
    "the change of the relation must be analysed. "
   ]
  },
  {
   "cell_type": "code",
   "execution_count": 1,
   "metadata": {
    "slideshow": {
     "slide_type": "skip"
    }
   },
   "outputs": [],
   "source": [
    "import pandas as pd\n",
    "\n",
    "# Parameters\n",
    "PREFIX = 'surance-'  # for importing a the Archisurance model with one change\n",
    "#PREFIX = 'test1-'  # for importing small test model\n",
    "\n",
    "NAME_ASIS = 'AsIs'\n",
    "NAME_TOBE = 'ToBe'"
   ]
  },
  {
   "cell_type": "code",
   "execution_count": 2,
   "metadata": {
    "slideshow": {
     "slide_type": "skip"
    }
   },
   "outputs": [],
   "source": [
    "class Element:\n",
    "    \"\"\"Element : id, name, type\"\"\"\n",
    "    def __init__(self, id, element_type, name):\n",
    "        self.id = id\n",
    "        self.name = name\n",
    "        self.element_type = element_type\n",
    "        \n",
    "        self.relation_asis_ids = set()\n",
    "        self.relation_tobe_ids = set()\n",
    "        self.relation_other_ids = set()\n",
    "        \n",
    "        self.obsolete = False\n",
    "        self.new = False\n",
    "        self.changed = False\n",
    "        self.unchanged = False\n",
    "        self.border = False\n",
    "        self.is_part_of_asis = False\n",
    "        self.is_part_of_tobe = False\n",
    "        \n",
    "        self.core = True\n",
    "        \n",
    "        self.border = False\n",
    "        \n",
    "    def set_is_part_of_asis(self, asis, relations_dict):\n",
    "        # if element has a relation with asis then True\n",
    "        for key, relation in relations_dict.items():\n",
    "            if (relation.source == self.id and relation.target == asis.id) or \\\n",
    "               (relation.source == asis.id and relation.target == self.id):\n",
    "                self.is_part_of_asis = True\n",
    " \n",
    "    def set_is_part_of_tobe(self, tobe, relations_dict):\n",
    "        # if element has a relation with tobe then True\n",
    "        for key, relation in relations_dict.items(): \n",
    "            if (relation.source == self.id and relation.target == tobe.id) or \\\n",
    "               (relation.source == tobe.id and relation.target == self.id):\n",
    "                self.is_part_of_tobe = True\n",
    "                \n",
    "    def __repr__(self): \n",
    "        return f'{self.id}, {self.element_type}, {self.name}'\n",
    "            \n",
    "        \n",
    "class Relation:\n",
    "    \"\"\"Element : id, name, type, source, target\"\"\"\n",
    "    def __init__(self, id, relation_type, name, source, target):\n",
    "        self.name = name\n",
    "        self.id = id\n",
    "        self.relation_type = relation_type\n",
    "        self.source = source\n",
    "        self.target = target\n",
    "        \n",
    "        self.is_part_of_asis = False\n",
    "        self.is_part_of_tobe = False\n",
    "        self.obsolete = False\n",
    "        self.new = False\n",
    "        \n",
    "        self.core = True\n",
    "        self.rel_to_rel = False\n",
    "        \n",
    "        self.border = False\n",
    "        self.extended_by = False\n",
    "        self.replaced_by = False\n",
    "        \n",
    "#     def __repr__(self):\n",
    "#         return f'{self.id}, {self.relation_type}, {self.is_part_of_asis}, \\\n",
    "#                 {self.is_part_of_tobe}, {elements_dict[self.source].name}, \\\n",
    "#                 {elements_dict[self.target].name}'\n",
    "\n",
    "        \n",
    "set_asis_relations = set()\n",
    "set_tobe_relations = set()\n",
    "\n",
    "set_asis_elements = set()\n",
    "set_tobe_elements = set()\n",
    "\n",
    "set_obsolete_elements = set()\n",
    "set_new_elements = set()\n",
    "set_border_elements = set()\n",
    "\n",
    "set_changed_elements = set()\n",
    "set_unchanged_elements = set()\n",
    "\n",
    "set_obsolete_relations = set()\n",
    "set_new_relations = set()\n",
    "\n",
    "set_extended_by_relations = set()\n",
    "set_replaced_by_relations = set()\n",
    "set_border_relations = set()\n"
   ]
  },
  {
   "cell_type": "code",
   "execution_count": 3,
   "metadata": {
    "slideshow": {
     "slide_type": "skip"
    }
   },
   "outputs": [],
   "source": [
    "# Import ArchiMate model from Architool exports.\n",
    "# ----------------------------------------------\n",
    "df_elements = pd.read_csv(f'{PREFIX}elements.csv', sep=\";\")\n",
    "elements_dict = dict()\n",
    "\n",
    "for index, element in df_elements.iterrows():\n",
    "    e = Element(element.ID, element.Type, element.Name)\n",
    "    if (e.element_type not in \\\n",
    "        ['ArchimateModel', 'Goal', 'Stakeholder', 'Constraint', 'Requirement', 'Driver']):\n",
    "        # Deny non-core 'Plateau' and other non-core concepts for defining changed\n",
    "        elements_dict[e.id] = e\n",
    "                \n",
    "\n",
    "# Create asis and tobe object for further use\n",
    "# -------------------------------------------\n",
    "for id, element in elements_dict.items():\n",
    "    if element.name == NAME_TOBE: # and element.element_type == 'Plateau':\n",
    "        tobe = element\n",
    "\n",
    "    if element.name == NAME_ASIS:# and element.element_type == 'Plateau':\n",
    "        asis = element\n",
    "\n",
    "# Import relationships\n",
    "# --------------------\n",
    "df_relations = pd.read_csv(f'{PREFIX}relations.csv', sep=\";\")\n",
    "relations_dict = dict()\n",
    "\n",
    "for index, relation in df_relations.iterrows():\n",
    "    if relation.Source in elements_dict.keys() and relation.Target in elements_dict.keys():\n",
    "        r = Relation(relation.ID, relation.Type, relation.Name, relation.Source, relation.Target)\n",
    "        if relation.Name in ['replaced by', 'extended by']:\n",
    "            # Exclude these GOC relations from the ArchiMate standard model.\n",
    "            r.core = False\n",
    "        relations_dict[r.id]=r\n",
    "        \n",
    "    # Relation may exist between relations and elements, source is relation\n",
    "    if relation.Source in relations_dict.keys() and relation.Target in elements_dict.keys():\n",
    "        r = Relation(relation.ID, relation.Type, relation.Name, relation.Source, relation.Target)\n",
    "        r.rel_to_rel = True\n",
    "        if relation.Name in ['replaced by', 'extended by'] or \\\n",
    "                (r.target in [asis.id, tobe.id]):\n",
    "            # Exclude these GOC relations from the ArchiMate standard model.\n",
    "            r.core = False\n",
    "        relations_dict[r.id]=r"
   ]
  },
  {
   "cell_type": "code",
   "execution_count": 4,
   "metadata": {
    "slideshow": {
     "slide_type": "skip"
    }
   },
   "outputs": [],
   "source": [
    " \n",
    "# Set part of asis/tobe attribute\n",
    "# -------------------------------\n",
    "for key, element in elements_dict.items():\n",
    "    element.set_is_part_of_asis(asis, relations_dict)\n",
    "    element.set_is_part_of_tobe(tobe, relations_dict)\n",
    "\n",
    "    \n",
    "# Create set of asis elements\n",
    "# ---------------------------\n",
    "for key, element in elements_dict.items():\n",
    "    if element.is_part_of_asis:\n",
    "        set_asis_elements.add(element.id)\n",
    "\n",
    "for key, element in elements_dict.items():\n",
    "    if element.is_part_of_tobe:\n",
    "        set_tobe_elements.add(element.id)\n",
    "\n",
    "# Find and set extended_by relationships\n",
    "# --------------------------------------\n",
    "# Assiciations or specialisations with the name 'extended by'\n",
    "for key, relation in relations_dict.items():\n",
    "    if relation.name == 'extended by':\n",
    "        relation.extended_by = True\n",
    "    else:\n",
    "        relation.extended_by = False\n",
    "    \n",
    "    \n",
    "# Find and set replaced_by relationships\n",
    "# --------------------------------------\n",
    "# Assiciations or specialisations with the name 'replaced by'\n",
    "for key, relation in relations_dict.items():\n",
    "    if relation.name == 'replaced by':\n",
    "        relation.replaced_by = True\n",
    "    else:\n",
    "        relation.replaced_by = False\n",
    "\n",
    "        \n",
    "# Assign relation to asis and/or to be based on source and target elements, \n",
    "# relation to plateau is not needed.\n",
    "# -------------------------------------------------------------------------\n",
    "for key, relation in relations_dict.items():\n",
    "    # relation ids may also be source and or target\n",
    "    if relation.rel_to_rel == False:\n",
    "        if elements_dict[relation.source].is_part_of_asis and elements_dict[relation.target].is_part_of_asis:\n",
    "            relation.is_part_of_asis = True\n",
    "        if elements_dict[relation.source].is_part_of_tobe and elements_dict[relation.target].is_part_of_tobe:\n",
    "            relation.is_part_of_tobe = True\n",
    "    else: \n",
    "        # When relation to relation is processed, the source relation is the relevant model relation\n",
    "        arch_relation = relations_dict[relation.source]\n",
    "        if relation.target == asis.id:\n",
    "            arch_relation.obsolete = True\n",
    "        if relation.target == tobe.id:\n",
    "            arch_relation.new = True"
   ]
  },
  {
   "cell_type": "code",
   "execution_count": 5,
   "metadata": {
    "slideshow": {
     "slide_type": "skip"
    }
   },
   "outputs": [],
   "source": [
    "# Create Rasis and Rtobe \n",
    "# ----------------------\n",
    "for key, relation in relations_dict.items():\n",
    "    if relation.is_part_of_asis == True:\n",
    "        set_asis_relations.add(relations_dict[key].id)\n",
    "    if relation.is_part_of_tobe == True:\n",
    "        set_tobe_relations.add(relations_dict[key].id)\n",
    "        \n",
    "        \n",
    "# Add relations to elements: from and to\n",
    "# --------------------------------------\n",
    "for element_key, element in elements_dict.items():\n",
    "    for relation_key, relation in relations_dict.items():\n",
    "#         _target = elements_dict[relation.target]\n",
    "#         _source = elements_dict[relation.source]\n",
    "        if element.is_part_of_asis and relation.is_part_of_asis \\\n",
    "                and (relation.source == element.id or relation.target == element.id):\n",
    "            element.relation_asis_ids.add(relation_key)\n",
    "        if element.is_part_of_tobe and relation.is_part_of_tobe \\\n",
    "                and (relation.source == element.id or relation.target == element.id):\n",
    "            element.relation_tobe_ids.add(relation_key)\n",
    "        if (not element.is_part_of_asis) and (not relation.is_part_of_asis) \\\n",
    "                and (relation.source == element.id or relation.target == element.id):\n",
    "            element.relation_other_ids.add(relation_key)\n",
    "\n",
    "# Set unchanged elements as such, partly because later set to changed relations may add elements.\n",
    "# -----------------------------------------------------------------------------------------------\n",
    "for key, element in elements_dict.items():\n",
    "   \n",
    "    if (element.relation_asis_ids == element.relation_tobe_ids) and \\\n",
    "            (element.element_type != 'Plateau'):\n",
    "        element.unchanged = True\n",
    "    else:\n",
    "        element.unchanged = False\n",
    "        \n",
    "    if element.relation_asis_ids != element.relation_tobe_ids and \\\n",
    "            (not element.new) and (not element.obsolete) and \\\n",
    "            (element.element_type != 'Plateau'):\n",
    "        element.changed = True\n",
    "    else:\n",
    "        element.changed = False\n",
    "\n",
    "\n",
    "                \n",
    "# Set obsolete elements as such\n",
    "# -----------------------------\n",
    "for key, element in elements_dict.items():\n",
    "    #element.set_obsolete()\n",
    "    if element.is_part_of_asis and not element.is_part_of_tobe:\n",
    "        elements_dict[key].obsolete = True\n",
    "        \n",
    "    \n",
    "# Set new elements as such\n",
    "# ------------------------\n",
    "for key, element in elements_dict.items():\n",
    "    #element.set_new()\n",
    "    if not element.is_part_of_asis and element.is_part_of_tobe:\n",
    "        elements_dict[key].new = True\n"
   ]
  },
  {
   "cell_type": "code",
   "execution_count": 6,
   "metadata": {
    "slideshow": {
     "slide_type": "skip"
    }
   },
   "outputs": [],
   "source": [
    "# Set asis relationships to obsolete when element is obsolete\n",
    "# -----------------------------------------------------------\n",
    "for element_id in set_asis_elements:\n",
    "    element = elements_dict[element_id]\n",
    "    if element.obsolete == True:\n",
    "        for relation_id in element.relation_asis_ids:\n",
    "            relations_dict[relation_id].obsolete = True\n",
    "\n",
    "            \n",
    "# Set tobe relationships to new when element is new\n",
    "# -------------------------------------------------\n",
    "for element_id in set_tobe_elements:\n",
    "    element = elements_dict[element_id]\n",
    "    if element.new == True:\n",
    "        for relation_id in element.relation_tobe_ids:\n",
    "            relations_dict[relation_id].new = True"
   ]
  },
  {
   "cell_type": "code",
   "execution_count": 7,
   "metadata": {
    "slideshow": {
     "slide_type": "skip"
    }
   },
   "outputs": [],
   "source": [
    "# Set border attribute (When unchanged and having relation to changed object or new or obsolete object)\n",
    "# -----------------------------------------------------------------------------------------------------\n",
    "for element_key, element in elements_dict.items():\n",
    "    # For modelling only a part of a larger EA, border elements do not have to be part of AsIs\n",
    "    for relation_key in element.relation_asis_ids | element.relation_tobe_ids | element.relation_other_ids:\n",
    "    #for relation_key, relation in relations_dict.items():\n",
    "        relation = relations_dict[relation_key]\n",
    "        if relation.rel_to_rel == False:\n",
    "            relation = relations_dict[relation_key]\n",
    "            source = elements_dict[relation.source]\n",
    "            target = elements_dict[relation.target]\n",
    "            \n",
    "        if relation.rel_to_rel == True:\n",
    "            relation = relations_dict[relation_key]\n",
    "            source = relations_dict[relation.source]#\n",
    "            target = elements_dict[relation.target]   \n",
    "            if relation.new == True or relation.obsolete == True:\n",
    "                # relation from relation to tobe or asis\n",
    "                source.changed = True\n",
    "                target.changed = True\n",
    "            \n",
    "        if element.unchanged and (target.changed or source.changed): \n",
    "            element.border = True\n",
    "            relation.border = True\n",
    "            #relations_dict[relation_key].border = True, changed to relation.border\n",
    "\n"
   ]
  },
  {
   "cell_type": "code",
   "execution_count": 8,
   "metadata": {
    "slideshow": {
     "slide_type": "skip"
    }
   },
   "outputs": [],
   "source": [
    "# Create set obsolete elements\n",
    "# ----------------------------\n",
    "for key, element in elements_dict.items():\n",
    "    if element.obsolete == True:\n",
    "        set_obsolete_elements.add(element.id)\n",
    "\n",
    "        \n",
    "# Create set new elements\n",
    "# -----------------------\n",
    "for key, element in elements_dict.items():\n",
    "    if element.new == True:\n",
    "        set_new_elements.add(element.id)\n",
    "        \n",
    "\n",
    "# Create set changed elements\n",
    "# ---------------------------\n",
    "for key, element in elements_dict.items():\n",
    "    if element.changed == True:\n",
    "        set_changed_elements.add(element.id)\n",
    "\n",
    "        \n",
    "# Create set unchanged elements\n",
    "# -----------------------------\n",
    "for key, element in elements_dict.items():\n",
    "    if element.unchanged == True:\n",
    "        set_unchanged_elements.add(element.id)\n",
    "\n",
    "        \n",
    "# Create set border elements, can be element without being part of AsIs\n",
    "# ---------------------------------------------------------------------\n",
    "for key, element in elements_dict.items():\n",
    "    if element.border == True:\n",
    "        set_border_elements.add(element.id)\n",
    "        \n",
    "        \n",
    "# Create set replaced by relationships\n",
    "# ------------------------------------\n",
    "for key, relation in relations_dict.items():\n",
    "    if relation.replaced_by == True:\n",
    "        set_replaced_by_relations.add(relation.id)\n",
    "        \n",
    "        \n",
    "# Create set extended by relationships\n",
    "# ------------------------------------\n",
    "for key, relation in relations_dict.items():\n",
    "    if relation.extended_by == True:\n",
    "        set_extended_by_relations.add(relation.id)\n",
    "\n",
    "        \n",
    "# Create set border relationships\n",
    "# ------------------------------------\n",
    "for key, relation in relations_dict.items():\n",
    "    if relation.border == True:\n",
    "        set_border_relations.add(relation.id)\n",
    "\n",
    "\n",
    "#Create set obsolete relationships\n",
    "# ---------------------------------\n",
    "for relation_id, relation in relations_dict.items():\n",
    "    if relation.obsolete == True and relation.core == True:\n",
    "        set_obsolete_relations.add(relation_id)\n",
    "\n",
    "\n",
    "# Create set new relationships\n",
    "# Exclude non-core relationships extended by and replaced by\n",
    "# -----------------------------------------------------------\n",
    "for relation_id, relation in relations_dict.items():\n",
    "    if relation.new == True and relation.core == True:\n",
    "        set_new_relations.add(relation_id)\n"
   ]
  },
  {
   "cell_type": "code",
   "execution_count": 10,
   "metadata": {
    "slideshow": {
     "slide_type": "skip"
    }
   },
   "outputs": [],
   "source": [
    "# Create dataframe for printing and counting\n",
    "# ------------------------------------------\n",
    "relation_df_columns = ['source', 'source_type', 'target', 'target_type', 'relation_type', 'state']\n",
    "goc_elements_df = pd.DataFrame(data=[], columns=['object_type', 'state', 'name'])\n",
    "goc_relations_df = pd.DataFrame(data=[], columns=relation_df_columns)\n",
    "\n",
    "element_sets =   [(set_new_elements, 'new object'), \n",
    "                 (set_obsolete_elements, 'obsolete object'),\n",
    "                 (set_changed_elements, 'changed object'),\n",
    "                 (set_unchanged_elements, 'unchanged object'),\n",
    "                 (set_border_elements, 'border object')]\n",
    "\n",
    "relation_sets = [(set_obsolete_relations, 'obsolete relation'),\n",
    "                     (set_new_relations, 'new relation'),\n",
    "                     (set_extended_by_relations, 'extended by relation'),\n",
    "                     (set_replaced_by_relations, 'replaced by relation'),\n",
    "                     (set_border_relations, 'border relation')]\n",
    "\n",
    "for (_set, state) in element_sets:\n",
    "    new_rows = []\n",
    "    for element_id in _set:\n",
    "        element = elements_dict[element_id]\n",
    "        new_rows.append([element.name, element.element_type, state])\n",
    "    df_set = pd.DataFrame(data=new_rows, columns=['name', 'object_type', 'state'])\n",
    "    goc_elements_df = pd.concat([goc_elements_df, df_set], sort=False, ignore_index=True)\n",
    "    \n",
    "for (_set, state) in relation_sets:\n",
    "    new_rows = []\n",
    "    for relation_id in _set:\n",
    "        relation = relations_dict[relation_id]\n",
    "        #new_rows.append([relation.name, relation.relation_type, state])\n",
    "        source = elements_dict[relation.source]\n",
    "        target = elements_dict[relation.target]    \n",
    "        new_rows.append([source.name, source.element_type, target.name, target.element_type, \n",
    "                         relation.relation_type, state])\n",
    "    df_set = pd.DataFrame(data=new_rows, columns=relation_df_columns) #['name', 'relation_type', 'state'])\n",
    "    goc_relations_df = pd.concat([goc_relations_df, df_set], sort=False, ignore_index=True)\n",
    "        "
   ]
  },
  {
   "cell_type": "code",
   "execution_count": 11,
   "metadata": {
    "slideshow": {
     "slide_type": "skip"
    }
   },
   "outputs": [],
   "source": [
    "# reporting results\n",
    "# These quantities are including border relations to other layers.\n",
    "# The code should be configurable for counting within the layer or also outside the layer. \n",
    "# Double counting is prevented through using sets which cannot contain doubles.\n",
    "# ----------------------------------------------------------------------------------------\n",
    "count_df1 = goc_elements_df.groupby(['state'])[['object_type']].count()\n",
    "count_df1.columns=[['count']]\n",
    "count_df2 = goc_relations_df.groupby(['state'])[['relation_type']].count()\n",
    "count_df2.columns=[['count']]\n",
    "count_df = pd.concat([count_df1, count_df2], sort=True)\n"
   ]
  },
  {
   "cell_type": "code",
   "execution_count": 12,
   "metadata": {
    "slideshow": {
     "slide_type": "slide"
    }
   },
   "outputs": [
    {
     "data": {
      "text/html": [
       "<div>\n",
       "<style scoped>\n",
       "    .dataframe tbody tr th:only-of-type {\n",
       "        vertical-align: middle;\n",
       "    }\n",
       "\n",
       "    .dataframe tbody tr th {\n",
       "        vertical-align: top;\n",
       "    }\n",
       "\n",
       "    .dataframe thead tr th {\n",
       "        text-align: left;\n",
       "    }\n",
       "\n",
       "    .dataframe thead tr:last-of-type th {\n",
       "        text-align: right;\n",
       "    }\n",
       "</style>\n",
       "<table border=\"1\" class=\"dataframe\">\n",
       "  <thead>\n",
       "    <tr>\n",
       "      <th></th>\n",
       "      <th>count</th>\n",
       "    </tr>\n",
       "    <tr>\n",
       "      <th>state</th>\n",
       "      <th></th>\n",
       "    </tr>\n",
       "  </thead>\n",
       "  <tbody>\n",
       "    <tr>\n",
       "      <th>obsolete object</th>\n",
       "      <td>2</td>\n",
       "    </tr>\n",
       "    <tr>\n",
       "      <th>new object</th>\n",
       "      <td>2</td>\n",
       "    </tr>\n",
       "    <tr>\n",
       "      <th>changed object</th>\n",
       "      <td>6</td>\n",
       "    </tr>\n",
       "    <tr>\n",
       "      <th>obsolete relation</th>\n",
       "      <td>4</td>\n",
       "    </tr>\n",
       "    <tr>\n",
       "      <th>new relation</th>\n",
       "      <td>3</td>\n",
       "    </tr>\n",
       "    <tr>\n",
       "      <th>border relation</th>\n",
       "      <td>8</td>\n",
       "    </tr>\n",
       "  </tbody>\n",
       "</table>\n",
       "</div>"
      ],
      "text/plain": [
       "                  count\n",
       "state                  \n",
       "obsolete object       2\n",
       "new object            2\n",
       "changed object        6\n",
       "obsolete relation     4\n",
       "new relation          3\n",
       "border relation       8"
      ]
     },
     "execution_count": 12,
     "metadata": {},
     "output_type": "execute_result"
    }
   ],
   "source": [
    "# Result of the amount of objects and relationships comprising the Gap Of Change \n",
    "# -------------------------------------------------------------------------------\n",
    "count_df.loc[['obsolete object', 'new object', 'changed object',\n",
    "              'obsolete relation', 'new relation', 'border relation']]"
   ]
  },
  {
   "cell_type": "code",
   "execution_count": 13,
   "metadata": {
    "slideshow": {
     "slide_type": "subslide"
    }
   },
   "outputs": [
    {
     "data": {
      "text/html": [
       "<div>\n",
       "<style scoped>\n",
       "    .dataframe tbody tr th:only-of-type {\n",
       "        vertical-align: middle;\n",
       "    }\n",
       "\n",
       "    .dataframe tbody tr th {\n",
       "        vertical-align: top;\n",
       "    }\n",
       "\n",
       "    .dataframe thead th {\n",
       "        text-align: right;\n",
       "    }\n",
       "</style>\n",
       "<table border=\"1\" class=\"dataframe\">\n",
       "  <thead>\n",
       "    <tr style=\"text-align: right;\">\n",
       "      <th></th>\n",
       "      <th>object_type</th>\n",
       "      <th>state</th>\n",
       "      <th>name</th>\n",
       "    </tr>\n",
       "  </thead>\n",
       "  <tbody>\n",
       "    <tr>\n",
       "      <th>2</th>\n",
       "      <td>ApplicationComponent</td>\n",
       "      <td>obsolete object</td>\n",
       "      <td>Customer Data  Access</td>\n",
       "    </tr>\n",
       "    <tr>\n",
       "      <th>3</th>\n",
       "      <td>DataObject</td>\n",
       "      <td>obsolete object</td>\n",
       "      <td>Customer File Data</td>\n",
       "    </tr>\n",
       "  </tbody>\n",
       "</table>\n",
       "</div>"
      ],
      "text/plain": [
       "            object_type            state                   name\n",
       "2  ApplicationComponent  obsolete object  Customer Data  Access\n",
       "3            DataObject  obsolete object     Customer File Data"
      ]
     },
     "execution_count": 13,
     "metadata": {},
     "output_type": "execute_result"
    }
   ],
   "source": [
    "goc_elements_df[goc_elements_df.state=='obsolete object']"
   ]
  },
  {
   "cell_type": "code",
   "execution_count": 14,
   "metadata": {
    "slideshow": {
     "slide_type": "subslide"
    }
   },
   "outputs": [
    {
     "data": {
      "text/html": [
       "<div>\n",
       "<style scoped>\n",
       "    .dataframe tbody tr th:only-of-type {\n",
       "        vertical-align: middle;\n",
       "    }\n",
       "\n",
       "    .dataframe tbody tr th {\n",
       "        vertical-align: top;\n",
       "    }\n",
       "\n",
       "    .dataframe thead th {\n",
       "        text-align: right;\n",
       "    }\n",
       "</style>\n",
       "<table border=\"1\" class=\"dataframe\">\n",
       "  <thead>\n",
       "    <tr style=\"text-align: right;\">\n",
       "      <th></th>\n",
       "      <th>object_type</th>\n",
       "      <th>state</th>\n",
       "      <th>name</th>\n",
       "    </tr>\n",
       "  </thead>\n",
       "  <tbody>\n",
       "    <tr>\n",
       "      <th>0</th>\n",
       "      <td>DataObject</td>\n",
       "      <td>new object</td>\n",
       "      <td>Customer File Data V2</td>\n",
       "    </tr>\n",
       "    <tr>\n",
       "      <th>1</th>\n",
       "      <td>ApplicationComponent</td>\n",
       "      <td>new object</td>\n",
       "      <td>Custom Data Access</td>\n",
       "    </tr>\n",
       "  </tbody>\n",
       "</table>\n",
       "</div>"
      ],
      "text/plain": [
       "            object_type       state                   name\n",
       "0            DataObject  new object  Customer File Data V2\n",
       "1  ApplicationComponent  new object     Custom Data Access"
      ]
     },
     "execution_count": 14,
     "metadata": {},
     "output_type": "execute_result"
    }
   ],
   "source": [
    "goc_elements_df[goc_elements_df.state=='new object']"
   ]
  },
  {
   "cell_type": "code",
   "execution_count": 15,
   "metadata": {
    "slideshow": {
     "slide_type": "subslide"
    }
   },
   "outputs": [
    {
     "data": {
      "text/html": [
       "<div>\n",
       "<style scoped>\n",
       "    .dataframe tbody tr th:only-of-type {\n",
       "        vertical-align: middle;\n",
       "    }\n",
       "\n",
       "    .dataframe tbody tr th {\n",
       "        vertical-align: top;\n",
       "    }\n",
       "\n",
       "    .dataframe thead th {\n",
       "        text-align: right;\n",
       "    }\n",
       "</style>\n",
       "<table border=\"1\" class=\"dataframe\">\n",
       "  <thead>\n",
       "    <tr style=\"text-align: right;\">\n",
       "      <th></th>\n",
       "      <th>object_type</th>\n",
       "      <th>state</th>\n",
       "      <th>name</th>\n",
       "    </tr>\n",
       "  </thead>\n",
       "  <tbody>\n",
       "    <tr>\n",
       "      <th>4</th>\n",
       "      <td>ApplicationComponent</td>\n",
       "      <td>changed object</td>\n",
       "      <td>Customer Data  Access</td>\n",
       "    </tr>\n",
       "    <tr>\n",
       "      <th>5</th>\n",
       "      <td>DataObject</td>\n",
       "      <td>changed object</td>\n",
       "      <td>Customer File Data</td>\n",
       "    </tr>\n",
       "    <tr>\n",
       "      <th>6</th>\n",
       "      <td>ApplicationComponent</td>\n",
       "      <td>changed object</td>\n",
       "      <td>Custom Data Access</td>\n",
       "    </tr>\n",
       "    <tr>\n",
       "      <th>7</th>\n",
       "      <td>ApplicationComponent</td>\n",
       "      <td>changed object</td>\n",
       "      <td>Home &amp; Away Policy Administration</td>\n",
       "    </tr>\n",
       "    <tr>\n",
       "      <th>8</th>\n",
       "      <td>ApplicationComponent</td>\n",
       "      <td>changed object</td>\n",
       "      <td>Risk Assessment</td>\n",
       "    </tr>\n",
       "    <tr>\n",
       "      <th>9</th>\n",
       "      <td>DataObject</td>\n",
       "      <td>changed object</td>\n",
       "      <td>Customer File Data V2</td>\n",
       "    </tr>\n",
       "  </tbody>\n",
       "</table>\n",
       "</div>"
      ],
      "text/plain": [
       "            object_type           state                               name\n",
       "4  ApplicationComponent  changed object              Customer Data  Access\n",
       "5            DataObject  changed object                 Customer File Data\n",
       "6  ApplicationComponent  changed object                 Custom Data Access\n",
       "7  ApplicationComponent  changed object  Home & Away Policy Administration\n",
       "8  ApplicationComponent  changed object                    Risk Assessment\n",
       "9            DataObject  changed object              Customer File Data V2"
      ]
     },
     "execution_count": 15,
     "metadata": {},
     "output_type": "execute_result"
    }
   ],
   "source": [
    "goc_elements_df[goc_elements_df.state=='changed object']"
   ]
  },
  {
   "cell_type": "code",
   "execution_count": 16,
   "metadata": {
    "slideshow": {
     "slide_type": "subslide"
    }
   },
   "outputs": [
    {
     "data": {
      "text/html": [
       "<div>\n",
       "<style scoped>\n",
       "    .dataframe tbody tr th:only-of-type {\n",
       "        vertical-align: middle;\n",
       "    }\n",
       "\n",
       "    .dataframe tbody tr th {\n",
       "        vertical-align: top;\n",
       "    }\n",
       "\n",
       "    .dataframe thead th {\n",
       "        text-align: right;\n",
       "    }\n",
       "</style>\n",
       "<table border=\"1\" class=\"dataframe\">\n",
       "  <thead>\n",
       "    <tr style=\"text-align: right;\">\n",
       "      <th></th>\n",
       "      <th>source</th>\n",
       "      <th>source_type</th>\n",
       "      <th>target</th>\n",
       "      <th>target_type</th>\n",
       "      <th>relation_type</th>\n",
       "      <th>state</th>\n",
       "    </tr>\n",
       "  </thead>\n",
       "  <tbody>\n",
       "    <tr>\n",
       "      <th>0</th>\n",
       "      <td>Policy Data Management</td>\n",
       "      <td>ApplicationComponent</td>\n",
       "      <td>Insurance Policy Data</td>\n",
       "      <td>DataObject</td>\n",
       "      <td>AccessRelationship</td>\n",
       "      <td>obsolete relation</td>\n",
       "    </tr>\n",
       "    <tr>\n",
       "      <th>1</th>\n",
       "      <td>Home &amp; Away Policy Administration</td>\n",
       "      <td>ApplicationComponent</td>\n",
       "      <td>Customer Data  Access</td>\n",
       "      <td>ApplicationComponent</td>\n",
       "      <td>CompositionRelationship</td>\n",
       "      <td>obsolete relation</td>\n",
       "    </tr>\n",
       "    <tr>\n",
       "      <th>2</th>\n",
       "      <td>Customer Data  Access</td>\n",
       "      <td>ApplicationComponent</td>\n",
       "      <td>Customer File Data</td>\n",
       "      <td>DataObject</td>\n",
       "      <td>AccessRelationship</td>\n",
       "      <td>obsolete relation</td>\n",
       "    </tr>\n",
       "    <tr>\n",
       "      <th>3</th>\n",
       "      <td>Customer Data  Access</td>\n",
       "      <td>ApplicationComponent</td>\n",
       "      <td>Risk Assessment</td>\n",
       "      <td>ApplicationComponent</td>\n",
       "      <td>ServingRelationship</td>\n",
       "      <td>obsolete relation</td>\n",
       "    </tr>\n",
       "  </tbody>\n",
       "</table>\n",
       "</div>"
      ],
      "text/plain": [
       "                              source           source_type  \\\n",
       "0             Policy Data Management  ApplicationComponent   \n",
       "1  Home & Away Policy Administration  ApplicationComponent   \n",
       "2              Customer Data  Access  ApplicationComponent   \n",
       "3              Customer Data  Access  ApplicationComponent   \n",
       "\n",
       "                  target           target_type            relation_type  \\\n",
       "0  Insurance Policy Data            DataObject       AccessRelationship   \n",
       "1  Customer Data  Access  ApplicationComponent  CompositionRelationship   \n",
       "2     Customer File Data            DataObject       AccessRelationship   \n",
       "3        Risk Assessment  ApplicationComponent      ServingRelationship   \n",
       "\n",
       "               state  \n",
       "0  obsolete relation  \n",
       "1  obsolete relation  \n",
       "2  obsolete relation  \n",
       "3  obsolete relation  "
      ]
     },
     "execution_count": 16,
     "metadata": {},
     "output_type": "execute_result"
    }
   ],
   "source": [
    "goc_relations_df[goc_relations_df.state=='obsolete relation']"
   ]
  },
  {
   "cell_type": "code",
   "execution_count": 17,
   "metadata": {
    "slideshow": {
     "slide_type": "subslide"
    }
   },
   "outputs": [
    {
     "data": {
      "text/html": [
       "<div>\n",
       "<style scoped>\n",
       "    .dataframe tbody tr th:only-of-type {\n",
       "        vertical-align: middle;\n",
       "    }\n",
       "\n",
       "    .dataframe tbody tr th {\n",
       "        vertical-align: top;\n",
       "    }\n",
       "\n",
       "    .dataframe thead th {\n",
       "        text-align: right;\n",
       "    }\n",
       "</style>\n",
       "<table border=\"1\" class=\"dataframe\">\n",
       "  <thead>\n",
       "    <tr style=\"text-align: right;\">\n",
       "      <th></th>\n",
       "      <th>source</th>\n",
       "      <th>source_type</th>\n",
       "      <th>target</th>\n",
       "      <th>target_type</th>\n",
       "      <th>relation_type</th>\n",
       "      <th>state</th>\n",
       "    </tr>\n",
       "  </thead>\n",
       "  <tbody>\n",
       "    <tr>\n",
       "      <th>4</th>\n",
       "      <td>Home &amp; Away Policy Administration</td>\n",
       "      <td>ApplicationComponent</td>\n",
       "      <td>Custom Data Access</td>\n",
       "      <td>ApplicationComponent</td>\n",
       "      <td>CompositionRelationship</td>\n",
       "      <td>new relation</td>\n",
       "    </tr>\n",
       "    <tr>\n",
       "      <th>5</th>\n",
       "      <td>Custom Data Access</td>\n",
       "      <td>ApplicationComponent</td>\n",
       "      <td>Customer File Data V2</td>\n",
       "      <td>DataObject</td>\n",
       "      <td>AccessRelationship</td>\n",
       "      <td>new relation</td>\n",
       "    </tr>\n",
       "    <tr>\n",
       "      <th>6</th>\n",
       "      <td>Policy Data Management</td>\n",
       "      <td>ApplicationComponent</td>\n",
       "      <td>Insurance Policy Data</td>\n",
       "      <td>DataObject</td>\n",
       "      <td>AccessRelationship</td>\n",
       "      <td>new relation</td>\n",
       "    </tr>\n",
       "  </tbody>\n",
       "</table>\n",
       "</div>"
      ],
      "text/plain": [
       "                              source           source_type  \\\n",
       "4  Home & Away Policy Administration  ApplicationComponent   \n",
       "5                 Custom Data Access  ApplicationComponent   \n",
       "6             Policy Data Management  ApplicationComponent   \n",
       "\n",
       "                  target           target_type            relation_type  \\\n",
       "4     Custom Data Access  ApplicationComponent  CompositionRelationship   \n",
       "5  Customer File Data V2            DataObject       AccessRelationship   \n",
       "6  Insurance Policy Data            DataObject       AccessRelationship   \n",
       "\n",
       "          state  \n",
       "4  new relation  \n",
       "5  new relation  \n",
       "6  new relation  "
      ]
     },
     "execution_count": 17,
     "metadata": {},
     "output_type": "execute_result"
    }
   ],
   "source": [
    "goc_relations_df[goc_relations_df.state=='new relation']"
   ]
  },
  {
   "cell_type": "code",
   "execution_count": 18,
   "metadata": {
    "slideshow": {
     "slide_type": "subslide"
    }
   },
   "outputs": [
    {
     "data": {
      "text/html": [
       "<div>\n",
       "<style scoped>\n",
       "    .dataframe tbody tr th:only-of-type {\n",
       "        vertical-align: middle;\n",
       "    }\n",
       "\n",
       "    .dataframe tbody tr th {\n",
       "        vertical-align: top;\n",
       "    }\n",
       "\n",
       "    .dataframe thead th {\n",
       "        text-align: right;\n",
       "    }\n",
       "</style>\n",
       "<table border=\"1\" class=\"dataframe\">\n",
       "  <thead>\n",
       "    <tr style=\"text-align: right;\">\n",
       "      <th></th>\n",
       "      <th>source</th>\n",
       "      <th>source_type</th>\n",
       "      <th>target</th>\n",
       "      <th>target_type</th>\n",
       "      <th>relation_type</th>\n",
       "      <th>state</th>\n",
       "    </tr>\n",
       "  </thead>\n",
       "  <tbody>\n",
       "    <tr>\n",
       "      <th>9</th>\n",
       "      <td>Home &amp; Away Policy Administration</td>\n",
       "      <td>ApplicationComponent</td>\n",
       "      <td>Claim Data Management</td>\n",
       "      <td>ApplicationComponent</td>\n",
       "      <td>CompositionRelationship</td>\n",
       "      <td>border relation</td>\n",
       "    </tr>\n",
       "    <tr>\n",
       "      <th>10</th>\n",
       "      <td>Home &amp; Away Policy Administration</td>\n",
       "      <td>ApplicationComponent</td>\n",
       "      <td>Policy Data Management</td>\n",
       "      <td>ApplicationComponent</td>\n",
       "      <td>CompositionRelationship</td>\n",
       "      <td>border relation</td>\n",
       "    </tr>\n",
       "    <tr>\n",
       "      <th>11</th>\n",
       "      <td>Financial Application</td>\n",
       "      <td>ApplicationComponent</td>\n",
       "      <td>Home &amp; Away Policy Administration</td>\n",
       "      <td>ApplicationComponent</td>\n",
       "      <td>ServingRelationship</td>\n",
       "      <td>border relation</td>\n",
       "    </tr>\n",
       "    <tr>\n",
       "      <th>12</th>\n",
       "      <td>Customer Data  Access</td>\n",
       "      <td>ApplicationComponent</td>\n",
       "      <td>Call center application</td>\n",
       "      <td>ApplicationComponent</td>\n",
       "      <td>ServingRelationship</td>\n",
       "      <td>border relation</td>\n",
       "    </tr>\n",
       "    <tr>\n",
       "      <th>13</th>\n",
       "      <td>Home &amp; Away Policy Administration</td>\n",
       "      <td>ApplicationComponent</td>\n",
       "      <td>Policy Creation Service</td>\n",
       "      <td>ApplicationService</td>\n",
       "      <td>RealizationRelationship</td>\n",
       "      <td>border relation</td>\n",
       "    </tr>\n",
       "    <tr>\n",
       "      <th>14</th>\n",
       "      <td>Customer File Data</td>\n",
       "      <td>DataObject</td>\n",
       "      <td>Customer File</td>\n",
       "      <td>BusinessObject</td>\n",
       "      <td>RealizationRelationship</td>\n",
       "      <td>border relation</td>\n",
       "    </tr>\n",
       "    <tr>\n",
       "      <th>15</th>\n",
       "      <td>Risk Assessment</td>\n",
       "      <td>ApplicationComponent</td>\n",
       "      <td>Web portal</td>\n",
       "      <td>ApplicationComponent</td>\n",
       "      <td>ServingRelationship</td>\n",
       "      <td>border relation</td>\n",
       "    </tr>\n",
       "    <tr>\n",
       "      <th>16</th>\n",
       "      <td>Store Policy</td>\n",
       "      <td>ApplicationFunction</td>\n",
       "      <td>Customer File Data</td>\n",
       "      <td>DataObject</td>\n",
       "      <td>AccessRelationship</td>\n",
       "      <td>border relation</td>\n",
       "    </tr>\n",
       "  </tbody>\n",
       "</table>\n",
       "</div>"
      ],
      "text/plain": [
       "                               source           source_type  \\\n",
       "9   Home & Away Policy Administration  ApplicationComponent   \n",
       "10  Home & Away Policy Administration  ApplicationComponent   \n",
       "11              Financial Application  ApplicationComponent   \n",
       "12              Customer Data  Access  ApplicationComponent   \n",
       "13  Home & Away Policy Administration  ApplicationComponent   \n",
       "14                 Customer File Data            DataObject   \n",
       "15                    Risk Assessment  ApplicationComponent   \n",
       "16                       Store Policy   ApplicationFunction   \n",
       "\n",
       "                               target           target_type  \\\n",
       "9               Claim Data Management  ApplicationComponent   \n",
       "10             Policy Data Management  ApplicationComponent   \n",
       "11  Home & Away Policy Administration  ApplicationComponent   \n",
       "12            Call center application  ApplicationComponent   \n",
       "13            Policy Creation Service    ApplicationService   \n",
       "14                      Customer File        BusinessObject   \n",
       "15                         Web portal  ApplicationComponent   \n",
       "16                 Customer File Data            DataObject   \n",
       "\n",
       "              relation_type            state  \n",
       "9   CompositionRelationship  border relation  \n",
       "10  CompositionRelationship  border relation  \n",
       "11      ServingRelationship  border relation  \n",
       "12      ServingRelationship  border relation  \n",
       "13  RealizationRelationship  border relation  \n",
       "14  RealizationRelationship  border relation  \n",
       "15      ServingRelationship  border relation  \n",
       "16       AccessRelationship  border relation  "
      ]
     },
     "execution_count": 18,
     "metadata": {},
     "output_type": "execute_result"
    }
   ],
   "source": [
    "goc_relations_df[goc_relations_df.state=='border relation']"
   ]
  },
  {
   "cell_type": "code",
   "execution_count": 19,
   "metadata": {
    "slideshow": {
     "slide_type": "subslide"
    }
   },
   "outputs": [
    {
     "data": {
      "text/html": [
       "<div>\n",
       "<style scoped>\n",
       "    .dataframe tbody tr th:only-of-type {\n",
       "        vertical-align: middle;\n",
       "    }\n",
       "\n",
       "    .dataframe tbody tr th {\n",
       "        vertical-align: top;\n",
       "    }\n",
       "\n",
       "    .dataframe thead th {\n",
       "        text-align: right;\n",
       "    }\n",
       "</style>\n",
       "<table border=\"1\" class=\"dataframe\">\n",
       "  <thead>\n",
       "    <tr style=\"text-align: right;\">\n",
       "      <th></th>\n",
       "      <th>object_type</th>\n",
       "      <th>state</th>\n",
       "      <th>name</th>\n",
       "    </tr>\n",
       "  </thead>\n",
       "  <tbody>\n",
       "    <tr>\n",
       "      <th>126</th>\n",
       "      <td>ApplicationComponent</td>\n",
       "      <td>border object</td>\n",
       "      <td>Claim Data Management</td>\n",
       "    </tr>\n",
       "    <tr>\n",
       "      <th>127</th>\n",
       "      <td>ApplicationComponent</td>\n",
       "      <td>border object</td>\n",
       "      <td>Financial Application</td>\n",
       "    </tr>\n",
       "    <tr>\n",
       "      <th>128</th>\n",
       "      <td>ApplicationComponent</td>\n",
       "      <td>border object</td>\n",
       "      <td>Call center application</td>\n",
       "    </tr>\n",
       "    <tr>\n",
       "      <th>129</th>\n",
       "      <td>ApplicationComponent</td>\n",
       "      <td>border object</td>\n",
       "      <td>Policy Data Management</td>\n",
       "    </tr>\n",
       "    <tr>\n",
       "      <th>130</th>\n",
       "      <td>ApplicationComponent</td>\n",
       "      <td>border object</td>\n",
       "      <td>Web portal</td>\n",
       "    </tr>\n",
       "    <tr>\n",
       "      <th>131</th>\n",
       "      <td>ApplicationService</td>\n",
       "      <td>border object</td>\n",
       "      <td>Policy Creation Service</td>\n",
       "    </tr>\n",
       "    <tr>\n",
       "      <th>132</th>\n",
       "      <td>ApplicationFunction</td>\n",
       "      <td>border object</td>\n",
       "      <td>Store Policy</td>\n",
       "    </tr>\n",
       "    <tr>\n",
       "      <th>133</th>\n",
       "      <td>BusinessObject</td>\n",
       "      <td>border object</td>\n",
       "      <td>Customer File</td>\n",
       "    </tr>\n",
       "  </tbody>\n",
       "</table>\n",
       "</div>"
      ],
      "text/plain": [
       "              object_type          state                     name\n",
       "126  ApplicationComponent  border object    Claim Data Management\n",
       "127  ApplicationComponent  border object    Financial Application\n",
       "128  ApplicationComponent  border object  Call center application\n",
       "129  ApplicationComponent  border object   Policy Data Management\n",
       "130  ApplicationComponent  border object               Web portal\n",
       "131    ApplicationService  border object  Policy Creation Service\n",
       "132   ApplicationFunction  border object             Store Policy\n",
       "133        BusinessObject  border object            Customer File"
      ]
     },
     "execution_count": 19,
     "metadata": {},
     "output_type": "execute_result"
    }
   ],
   "source": [
    "goc_elements_df[goc_elements_df.state=='border object']"
   ]
  },
  {
   "cell_type": "markdown",
   "metadata": {
    "slideshow": {
     "slide_type": "slide"
    }
   },
   "source": [
    "## Proposed extended by relationships."
   ]
  },
  {
   "cell_type": "code",
   "execution_count": 58,
   "metadata": {
    "slideshow": {
     "slide_type": "-"
    }
   },
   "outputs": [
    {
     "name": "stdout",
     "output_type": "stream",
     "text": [
      "Proposed extended_by relationships:\n",
      "-----------------------------------\n",
      " [CompositionRelationship]: [ApplicationComponent] Home & Away Policy Administration -> [ApplicationComponent] Custom Data Access \n",
      "\n"
     ]
    }
   ],
   "source": [
    "# Propose extended by relations (based on assigned , composite and direction)\n",
    "# For checking applying GOC in the model\n",
    "# (find relations between changed and new elements)\n",
    "# ---------------------------------------------------------------------------\n",
    "set_proposed_extended_by_relations = set() # []\n",
    "for element_key in set_tobe_elements:\n",
    "    element = elements_dict[element_key]\n",
    "    if element.changed == True:\n",
    "        for relation_key in element.relation_tobe_ids:\n",
    "            relation = relations_dict[relation_key]        \n",
    "            source = elements_dict[relation.source]\n",
    "            target = elements_dict[relation.target]    \n",
    "\n",
    "            if ((relation.relation_type == 'CompositionRelationship') or (\n",
    "                relation.relation_type == 'AssignmentRelationship')) and target.new:\n",
    "                set_proposed_extended_by_relations.add(relation_key)\n",
    "                #set_proposed_extended_by_relations.append([element.name, element.id, target.name, target.id])\n",
    "\n",
    "print('Proposed extended_by relationships:')\n",
    "print('-----------------------------------')\n",
    "for relation_id in set_proposed_extended_by_relations:\n",
    "    relation = relations_dict[relation_id]        \n",
    "    source = elements_dict[relation.source]\n",
    "    target = elements_dict[relation.target]\n",
    "    print(f\"[{relation.relation_type}]: [{source.element_type}] {source.name} -> [{target.element_type}] {target.name} \\n\")"
   ]
  },
  {
   "cell_type": "code",
   "execution_count": 20,
   "metadata": {
    "slideshow": {
     "slide_type": "skip"
    }
   },
   "outputs": [
    {
     "name": "stdout",
     "output_type": "stream",
     "text": [
      "New elements equal elements in ToBe difference elements in Asis : True\n",
      "Obsolete elements equal AsIs difference ekements in ToBe        : True\n"
     ]
    }
   ],
   "source": [
    "# Check sets \n",
    "# ----------\n",
    "\n",
    "print(f'New elements equal elements in ToBe difference elements in Asis : \\\n",
    "{( set_new_elements == set_tobe_elements - set_asis_elements )}')\n",
    "\n",
    "\n",
    "print(f'Obsolete elements equal AsIs difference ekements in ToBe        : \\\n",
    "{ set_obsolete_elements == ( set_asis_elements - set_tobe_elements ) }')\n"
   ]
  },
  {
   "cell_type": "code",
   "execution_count": 21,
   "metadata": {
    "slideshow": {
     "slide_type": "skip"
    }
   },
   "outputs": [],
   "source": [
    "# Which elements are unchanged and are no border elements\n",
    "# -------------------------------------------------------\n",
    "# print_element_set_df( set_unchanged_elements - set_border_elements)   # will be long with only a \n",
    "                                                                        #small change in a large model"
   ]
  },
  {
   "cell_type": "code",
   "execution_count": 22,
   "metadata": {
    "slideshow": {
     "slide_type": "skip"
    }
   },
   "outputs": [],
   "source": [
    "# Use set math for validating sets like Oborder\n",
    "# ---------------------------------------------\n",
    "# set_asis_relations\n",
    "# set_tobe_relations\n",
    "# set_asis_elements\n",
    "# set_tobe_elements\n",
    "# set_obsolete_elements\n",
    "# set_new_elements\n",
    "# set_border_elements\n",
    "# set_changed_elements\n",
    "# set_unchanged_elements\n",
    "# set_obsolete_relations\n",
    "# set_new_relations\n",
    "# set_extended_by_relations\n",
    "# set_replaced_by_relations\n",
    "# set_border_relations\n",
    "# set_proposed_extended_by_relations\n",
    "# set_proposed_extended_by_relations_df\n"
   ]
  },
  {
   "cell_type": "code",
   "execution_count": 23,
   "metadata": {
    "slideshow": {
     "slide_type": "skip"
    }
   },
   "outputs": [],
   "source": [
    "# Option for further development: list GOC sets per layer or also inbetween layers.\n",
    "# ---------------------------------------------------------------------------------\n",
    "# limited_border = True  # easy implementation counting only the applications layer\n",
    "# def print_element_set_doc(_set):\n",
    "#     line_list = []\n",
    "#     for element_id in _set:\n",
    "#         element = elements_dict[element_id]\n",
    "#         #print(element.element_ty9)   or DataObject , 'Applicatio'o:r start with  Application\n",
    "#         #if limited_border == True and element.element_type[0:9] in ['DataObject', 'Applicatio']:\n",
    "#         line_list.append(f\"{element.name}({element.element_type}),\\n\") \n",
    "#     line_doc = f\" {' '.join(line_list)} \"\n",
    "#     return line_doc\n",
    "\n",
    "# for element_set, state in element_sets:\n",
    "#     print(f\"{state} = {{{print_element_set_doc(element_set)}}} \\n\")"
   ]
  },
  {
   "cell_type": "markdown",
   "metadata": {
    "slideshow": {
     "slide_type": "slide"
    }
   },
   "source": [
    "## Print Gap of change sets."
   ]
  },
  {
   "cell_type": "code",
   "execution_count": 24,
   "metadata": {
    "slideshow": {
     "slide_type": "skip"
    }
   },
   "outputs": [],
   "source": [
    "# List GOC relationships sets\n",
    "# ---------------------------\n",
    "def print_relation_set_doc(_set):\n",
    "    line_list = []\n",
    "    for relation_id in _set:\n",
    "        \n",
    "        relation = relations_dict[relation_id]\n",
    "        if relation.rel_to_rel == False:\n",
    "            source = elements_dict[relation.source]\n",
    "            target = elements_dict[relation.target]\n",
    "        else:\n",
    "            source = relations_dict[relation.source]\n",
    "            target = elements_dict[relation.target]            \n",
    "            \n",
    "        line_list.append(f\"({source.name}, {target.name}) [{relation.relation_type}], \\n\") \n",
    "    line_doc = f\" {' '.join(line_list)} \"\n",
    "    return line_doc"
   ]
  },
  {
   "cell_type": "code",
   "execution_count": 59,
   "metadata": {
    "slideshow": {
     "slide_type": "-"
    }
   },
   "outputs": [
    {
     "name": "stdout",
     "output_type": "stream",
     "text": [
      "Relationship sets:\n",
      "------------------\n",
      "obsolete relation = { (Policy Data Management, Insurance Policy Data) [AccessRelationship], \n",
      " (Home & Away Policy Administration, Customer Data  Access) [CompositionRelationship], \n",
      " (Customer Data  Access, Customer File Data) [AccessRelationship], \n",
      " (Customer Data  Access, Risk Assessment) [ServingRelationship], \n",
      " } \n",
      "\n",
      "new relation = { (Home & Away Policy Administration, Custom Data Access) [CompositionRelationship], \n",
      " (Custom Data Access, Customer File Data V2) [AccessRelationship], \n",
      " (Policy Data Management, Insurance Policy Data) [AccessRelationship], \n",
      " } \n",
      "\n",
      "extended by relation = { (Home & Away Policy Administration, Custom Data Access) [AssociationRelationship], \n",
      " } \n",
      "\n",
      "replaced by relation = { (Customer Data  Access, Custom Data Access) [AssociationRelationship], \n",
      " } \n",
      "\n",
      "border relation = { (Home & Away Policy Administration, Claim Data Management) [CompositionRelationship], \n",
      " (Home & Away Policy Administration, Policy Data Management) [CompositionRelationship], \n",
      " (Financial Application, Home & Away Policy Administration) [ServingRelationship], \n",
      " (Customer Data  Access, Call center application) [ServingRelationship], \n",
      " (Home & Away Policy Administration, Policy Creation Service) [RealizationRelationship], \n",
      " (Customer File Data, Customer File) [RealizationRelationship], \n",
      " (Risk Assessment, Web portal) [ServingRelationship], \n",
      " (Store Policy, Customer File Data) [AccessRelationship], \n",
      " } \n",
      "\n"
     ]
    }
   ],
   "source": [
    "print('Relationship sets:')\n",
    "print('------------------')\n",
    "for rel_set, state in relation_sets:\n",
    "    print(f\"{state} = {{{print_relation_set_doc(rel_set)}}} \\n\")"
   ]
  },
  {
   "cell_type": "code",
   "execution_count": 30,
   "metadata": {
    "slideshow": {
     "slide_type": "skip"
    }
   },
   "outputs": [],
   "source": [
    "def print_element_set_doc(_set):\n",
    "    line_list = []\n",
    "    for element_id in _set:\n",
    "        element = elements_dict[element_id]\n",
    "#         line_list.append([element.element_type, element.name \\\n",
    "#                         , element.is_part_of_asis, element.is_part_of_tobe])  \n",
    "        line_list.append(\n",
    "            f\"{element.element_type}, {element.name}, {str(element.is_part_of_asis)}, {str(element.is_part_of_tobe)} \\n\")\n",
    "    line_doc = f\" {' '.join(line_list)} \"\n",
    "    return line_doc"
   ]
  },
  {
   "cell_type": "markdown",
   "metadata": {
    "slideshow": {
     "slide_type": "slide"
    }
   },
   "source": [
    "## Relationships sets"
   ]
  },
  {
   "cell_type": "code",
   "execution_count": 60,
   "metadata": {
    "slideshow": {
     "slide_type": "-"
    }
   },
   "outputs": [
    {
     "name": "stdout",
     "output_type": "stream",
     "text": [
      "Relationship sets:\n",
      "------------------\n",
      "new object = { DataObject, Customer File Data V2, False, True \n",
      " ApplicationComponent, Custom Data Access, False, True \n",
      " } \n",
      "\n",
      "obsolete object = { ApplicationComponent, Customer Data  Access, True, False \n",
      " DataObject, Customer File Data, True, False \n",
      " } \n",
      "\n",
      "changed object = { ApplicationComponent, Customer Data  Access, True, False \n",
      " DataObject, Customer File Data, True, False \n",
      " ApplicationComponent, Custom Data Access, False, True \n",
      " ApplicationComponent, Home & Away Policy Administration, True, True \n",
      " ApplicationComponent, Risk Assessment, True, True \n",
      " DataObject, Customer File Data V2, False, True \n",
      " } \n",
      "\n",
      "unchanged object = { Principle, Costs Goal, False, False \n",
      " BusinessProcess, Register, False, False \n",
      " BusinessProcess, Collect Premium, False, False \n",
      " BusinessProcess, Handle Claim, False, False \n",
      " Device, Unix Server, False, False \n",
      " BusinessFunction, Asset Management, False, False \n",
      " BusinessInterface, e-mail, False, False \n",
      " TechnologyService, File Service, False, False \n",
      " ApplicationFunction, Policy Creation, False, False \n",
      " ApplicationService, Policy Creation Service, False, False \n",
      " ApplicationComponent, CRM System, False, False \n",
      " Node, Unix Server Farm, False, False \n",
      " BusinessActor, Client, False, False \n",
      " BusinessProcess, Create Contract, False, False \n",
      " BusinessCollaboration, Negotiation, False, False \n",
      " BusinessActor, Customer Relations, False, False \n",
      " BusinessActor, Back Office, False, False \n",
      " SystemSoftware, DBMS, False, False \n",
      " Principle, TCO Goal, False, False \n",
      " BusinessFunction, Financial Handling, False, False \n",
      " BusinessObject, Damage Claim, False, False \n",
      " BusinessRole, Intermediary, False, False \n",
      " Contract, Travel Insurance Policy, False, False \n",
      " BusinessProcess, Valuate, False, False \n",
      " BusinessActor, Director of Sales, False, False \n",
      " BusinessActor, Product Development, False, False \n",
      " BusinessActor, Archisurance, False, False \n",
      " BusinessRole, Customer, False, False \n",
      " ApplicationService, Claim InfoServ, False, False \n",
      " ApplicationFunction, Calculate Premium, False, False \n",
      " DataObject, Damage Claim Data, True, True \n",
      " BusinessObject, Travel  Insurance Policy, False, False \n",
      " Device, Admin Server, False, False \n",
      " Node, Firewall, False, False \n",
      " BusinessService, Customer data mutation Service, False, False \n",
      " Principle, Treatment Time Principle, False, False \n",
      " Device, Unix Server, False, False \n",
      " BusinessObject, Legal aid  Insurance Policy, False, False \n",
      " ApplicationComponent, Bank System, False, False \n",
      " BusinessInterface, phone, False, False \n",
      " Principle, Client Satisfaction Goal, False, False \n",
      " Principle, Licence Principle, False, False \n",
      " BusinessService, Premium Payment Service, False, False \n",
      " BusinessInteraction, Check and  Sign Contract, False, False \n",
      " BusinessActor, Front Office, False, False \n",
      " BusinessProcess, Pay, False, False \n",
      " ApplicationFunction, Store Policy, False, False \n",
      " BusinessObject, Insurance Policy, False, False \n",
      " SystemSoftware, Financial Software, False, False \n",
      " ApplicationComponent, Claim Data Management, True, True \n",
      " ApplicationService, CIS, False, False \n",
      " BusinessActor, Director of Operations, False, False \n",
      " BusinessInterface, GIM, False, False \n",
      " ApplicationComponent, Policy Data Management, True, True \n",
      " ApplicationComponent, Web portal, False, False \n",
      " ApplicationFunction, Create Policy, False, False \n",
      " Device, NAS File Server, False, False \n",
      " BusinessObject, Customer File, False, False \n",
      " Node, Firewall, False, False \n",
      " BusinessCollaboration, collaboration, False, False \n",
      " BusinessService, Insurance Application Service, False, False \n",
      " BusinessCollaboration, Contracting, False, False \n",
      " BusinessRole, Customer's Bank, False, False \n",
      " BusinessFunction, Maintaining Intermediary Relations, False, False \n",
      " BusinessRole, Insurer, False, False \n",
      " TechnologyService, Network Service, False, False \n",
      " Node, Mainframe, False, False \n",
      " BusinessEvent, Damage Occured, False, False \n",
      " BusinessInterface, mail, False, False \n",
      " Principle, Infrastructure Principle, False, False \n",
      " Principle, Occupancy Principle, False, False \n",
      " BusinessObject, Home Insurance Policy, False, False \n",
      " BusinessActor, Car, False, False \n",
      " SystemSoftware, CICS, False, False \n",
      " TechnologyService, Customer File Service, False, False \n",
      " BusinessActor, Intermediary Relations, False, False \n",
      " CommunicationNetwork, BIBIT, False, False \n",
      " ApplicationComponent, Call center application, False, False \n",
      " BusinessInterface, phone, False, False \n",
      " BusinessService, Customer Information Service, False, False \n",
      " DataObject, Insurance Request Data, False, False \n",
      " BusinessFunction, Maintaining Customer Relations, False, False \n",
      " Value, Be Insured, False, False \n",
      " BusinessProcess, Accept, False, False \n",
      " BusinessRole, Insurant, False, False \n",
      " BusinessEvent, Request for Insurance, False, False \n",
      " TechnologyService, Database Service, False, False \n",
      " Principle, Component Principle, False, False \n",
      " BusinessActor, Board, False, False \n",
      " ApplicationComponent, Financial Application, False, False \n",
      " BusinessObject, Car Insurance Policy, False, False \n",
      " CommunicationNetwork, LAN, False, False \n",
      " TechnologyService, Claim Files Service, False, False \n",
      " BusinessService, Claims Payment Service, False, False \n",
      " BusinessObject, Liability  Insurance Policy, False, False \n",
      " ApplicationFunction, Calculate Risk, False, False \n",
      " BusinessFunction, Contracting, False, False \n",
      " Principle, One Stop Principle, False, False \n",
      " BusinessInteraction, Formalise Request, False, False \n",
      " BusinessProcess, Close Contract, False, False \n",
      " BusinessActor, Legal Aid, False, False \n",
      " BusinessFunction, Claims Handling, False, False \n",
      " Representation, Claim Form, False, False \n",
      " Device, BIBIT Server, False, False \n",
      " CommunicationNetwork, LAN, False, False \n",
      " BusinessActor, Document Processing SSC, False, False \n",
      " SystemSoftware, Message Queing, False, False \n",
      " BusinessActor, Home  &  Away, False, False \n",
      " BusinessActor, HRM, False, False \n",
      " BusinessActor, Director of Finance, False, False \n",
      " BusinessService, Claim Registration Service, False, False \n",
      " DataObject, Insurance Policy Data, True, True \n",
      " BusinessObject, Insurance Request, False, False \n",
      " BusinessObject, Customer, False, False \n",
      " BusinessProcess, Inform Customer, False, False \n",
      " BusinessActor, Finance, False, False \n",
      " } \n",
      "\n",
      "border object = { ApplicationComponent, Claim Data Management, True, True \n",
      " ApplicationComponent, Financial Application, False, False \n",
      " ApplicationComponent, Call center application, False, False \n",
      " ApplicationComponent, Policy Data Management, True, True \n",
      " ApplicationComponent, Web portal, False, False \n",
      " ApplicationService, Policy Creation Service, False, False \n",
      " ApplicationFunction, Store Policy, False, False \n",
      " BusinessObject, Customer File, False, False \n",
      " } \n",
      "\n"
     ]
    }
   ],
   "source": [
    "print('Relationship sets:')\n",
    "print('------------------')\n",
    "for el_set, state in element_sets:\n",
    "    print(f\"{state} = {{{print_element_set_doc(el_set)}}} \\n\")"
   ]
  }
 ],
 "metadata": {
  "celltoolbar": "Slideshow",
  "kernelspec": {
   "display_name": "Python 3",
   "language": "python",
   "name": "python3"
  },
  "language_info": {
   "codemirror_mode": {
    "name": "ipython",
    "version": 3
   },
   "file_extension": ".py",
   "mimetype": "text/x-python",
   "name": "python",
   "nbconvert_exporter": "python",
   "pygments_lexer": "ipython3",
   "version": "3.6.2"
  }
 },
 "nbformat": 4,
 "nbformat_minor": 2
}
